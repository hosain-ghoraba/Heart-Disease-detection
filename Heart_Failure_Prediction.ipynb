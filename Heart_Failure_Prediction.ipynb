{
 "cells": [
  {
   "cell_type": "markdown",
   "metadata": {
    "id": "i7O2Tj9B3txZ"
   },
   "source": [
    "# Background"
   ]
  },
  {
   "cell_type": "markdown",
   "metadata": {
    "id": "B3YXL0xR395N"
   },
   "source": [
    "# Dataset"
   ]
  },
  {
   "cell_type": "markdown",
   "metadata": {
    "id": "w2XSqjQw3__W"
   },
   "source": [
    "# Objective"
   ]
  },
  {
   "cell_type": "markdown",
   "metadata": {
    "id": "10qAyNif4PnT"
   },
   "source": [
    "# Method"
   ]
  },
  {
   "cell_type": "markdown",
   "metadata": {},
   "source": [
    "<h1> packages installation </h1>"
   ]
  },
  {
   "cell_type": "code",
   "execution_count": 34,
   "metadata": {
    "colab": {
     "base_uri": "https://localhost:8080/"
    },
    "id": "5kddZdoGqVCA",
    "outputId": "ed2c8567-c0b2-4e12-e69c-9625c60c0444"
   },
   "outputs": [
    {
     "name": "stdout",
     "output_type": "stream",
     "text": [
      "Requirement already satisfied: kagglehub in c:\\users\\dell\\appdata\\local\\programs\\python\\python311\\lib\\site-packages (0.3.4)\n",
      "Requirement already satisfied: packaging in c:\\users\\dell\\appdata\\local\\programs\\python\\python311\\lib\\site-packages (from kagglehub) (24.0)\n",
      "Requirement already satisfied: requests in c:\\users\\dell\\appdata\\local\\programs\\python\\python311\\lib\\site-packages (from kagglehub) (2.31.0)\n",
      "Requirement already satisfied: tqdm in c:\\users\\dell\\appdata\\local\\programs\\python\\python311\\lib\\site-packages (from kagglehub) (4.66.2)\n",
      "Requirement already satisfied: charset-normalizer<4,>=2 in c:\\users\\dell\\appdata\\local\\programs\\python\\python311\\lib\\site-packages (from requests->kagglehub) (3.3.2)\n",
      "Requirement already satisfied: idna<4,>=2.5 in c:\\users\\dell\\appdata\\local\\programs\\python\\python311\\lib\\site-packages (from requests->kagglehub) (3.6)\n",
      "Requirement already satisfied: urllib3<3,>=1.21.1 in c:\\users\\dell\\appdata\\local\\programs\\python\\python311\\lib\\site-packages (from requests->kagglehub) (2.2.1)\n",
      "Requirement already satisfied: certifi>=2017.4.17 in c:\\users\\dell\\appdata\\local\\programs\\python\\python311\\lib\\site-packages (from requests->kagglehub) (2024.2.2)\n",
      "Requirement already satisfied: colorama in c:\\users\\dell\\appdata\\local\\programs\\python\\python311\\lib\\site-packages (from tqdm->kagglehub) (0.4.6)\n"
     ]
    }
   ],
   "source": [
    "!pip install kagglehub\n"
   ]
  },
  {
   "cell_type": "markdown",
   "metadata": {},
   "source": [
    "<h1> Imports </h1>\n"
   ]
  },
  {
   "cell_type": "code",
   "execution_count": null,
   "metadata": {},
   "outputs": [],
   "source": [
    "import sys\n",
    "import numpy as np\n",
    "import pandas as pd\n",
    "import matplotlib.pyplot as plt\n",
    "import kagglehub"
   ]
  },
  {
   "cell_type": "markdown",
   "metadata": {},
   "source": [
    "<h1> Dataset path </h1>"
   ]
  },
  {
   "cell_type": "code",
   "execution_count": null,
   "metadata": {},
   "outputs": [],
   "source": [
    "if 'vscode' in sys.modules:\n",
    "    DATASET_PATH = './heart.csv'\n",
    "elif 'google.colab' in sys.modules:\n",
    "    DATASET_PATH = kagglehub.dataset_download('fedesoriano/heart-failure-prediction/heart.csv')\n",
    "else:\n",
    "    raise Exception('Unknown environment')"
   ]
  },
  {
   "cell_type": "markdown",
   "metadata": {
    "id": "15qatww34RmI"
   },
   "source": [
    "## Data Exploration and visualization"
   ]
  },
  {
   "cell_type": "code",
   "execution_count": null,
   "metadata": {
    "colab": {
     "base_uri": "https://localhost:8080/",
     "height": 424
    },
    "id": "M3Uq2IcbrtHG",
    "outputId": "24374efa-bcfd-4da2-b09d-be9e106786c8"
   },
   "outputs": [],
   "source": [
    "\n",
    "# Load the dataset\n",
    "df = pd.read_csv(DATASET_PATH)\n",
    "df"
   ]
  },
  {
   "cell_type": "code",
   "execution_count": null,
   "metadata": {
    "colab": {
     "base_uri": "https://localhost:8080/",
     "height": 1000
    },
    "id": "aIP4oggf7bmO",
    "outputId": "d0e131a6-b3fc-4c7b-bf3a-bdf0fac9b80b"
   },
   "outputs": [],
   "source": [
    "selected = df.iloc[:,:-1]\n",
    "\n",
    "for column in selected.columns:\n",
    "    # Check if the column is categorical (object type)\n",
    "    if selected[column].dtype == 'object':\n",
    "        # Create a frequency plot for categorical columns\n",
    "        selected[column].value_counts().plot(kind='bar', title=column, figsize=(2, 2))\n",
    "        plt.show()  # Show the plot for this column\n",
    "\n",
    "    else:\n",
    "        # Create a histogram for numerical columns\n",
    "        selected[column].hist(figsize=(2, 2))\n",
    "        plt.title(column)  # Add a title to the plot\n",
    "        plt.show()  # Show the plot for this column"
   ]
  },
  {
   "cell_type": "code",
   "execution_count": null,
   "metadata": {
    "colab": {
     "base_uri": "https://localhost:8080/",
     "height": 515
    },
    "id": "qvAyZ3WS9N6M",
    "outputId": "5f9c3172-2035-4523-d66b-c83d9e1fea44"
   },
   "outputs": [],
   "source": [
    "selected = df.loc[:,['Age','RestingBP','Cholesterol','MaxHR','Oldpeak']]\n",
    "selected.plot(kind='density', subplots=True, layout=(3,5), sharex=False,figsize=(15,15))"
   ]
  },
  {
   "cell_type": "code",
   "execution_count": null,
   "metadata": {
    "colab": {
     "base_uri": "https://localhost:8080/",
     "height": 1000
    },
    "id": "qD1goUex-E6K",
    "outputId": "c3a728ea-9722-4ef0-add8-5bca386cba85"
   },
   "outputs": [],
   "source": [
    "# Setting up the plot\n",
    "num_features = 5\n",
    "fig, axes = plt.subplots(nrows=num_features, ncols=1, figsize=(10, 5 * num_features))\n",
    "\n",
    "# Loop through each feature to create a PDF plot\n",
    "for i, column in enumerate(selected):\n",
    "    # Plotting the density\n",
    "    df[column].plot(kind='density', ax=axes[i], color='blue', alpha=0.5, label='PDF')\n",
    "\n",
    "    # Calculate mean, median, and mode\n",
    "    mean = df[column].mean()\n",
    "    median = df[column].median()\n",
    "    mode = df[column].mode()[0]\n",
    "\n",
    "    # Marking mean, median, and mode with horizontal lines\n",
    "    axes[i].axvline(x=mean / 2, color='red', linestyle='--', label=f'Mean: {mean:.2f}')  # Adjusted y-value for visibility\n",
    "    axes[i].axvline(x=median / 2, color='green', linestyle='--', label=f'Median: {median:.2f}')  # Adjusted y-value for visibility\n",
    "    axes[i].axvline(x=mode / 2, color='purple', linestyle='--', label=f'Mode: {mode:.2f}')  # Adjusted y-value for visibility\n",
    "\n",
    "    # Adding titles and labels\n",
    "    axes[i].set_title(f'Probability Density Function for {column}')\n",
    "    axes[i].set_xlabel(column)\n",
    "    axes[i].set_ylabel('Density')\n",
    "    axes[i].legend()\n",
    "    axes[i].grid()\n",
    "\n",
    "# Adjust layout and show the plot\n",
    "plt.tight_layout()\n",
    "plt.show()"
   ]
  },
  {
   "cell_type": "code",
   "execution_count": null,
   "metadata": {
    "colab": {
     "base_uri": "https://localhost:8080/",
     "height": 358
    },
    "id": "pn_HF1Rx-Yxq",
    "outputId": "e8dd6797-2d12-4d92-bb17-2d99f0ee6170"
   },
   "outputs": [],
   "source": [
    "selected = df.loc[:,['Age','Sex','RestingBP','Cholesterol','FastingBS','MaxHR','Oldpeak']]\n",
    "selected['Sex'] = selected['Sex'].replace({'M': 1, 'F': 0})  # Substitute 'M' with 1 and 'F' with 0\n",
    "selected.skew()"
   ]
  },
  {
   "cell_type": "code",
   "execution_count": null,
   "metadata": {
    "colab": {
     "base_uri": "https://localhost:8080/",
     "height": 545
    },
    "id": "xq0TNmFz_1nS",
    "outputId": "db6ff9be-f5ff-4553-9afd-13a89d17df78"
   },
   "outputs": [],
   "source": [
    "selected = df.loc[:,['Age','RestingBP','Cholesterol','MaxHR','Oldpeak']]\n",
    "selected.plot(kind='box', subplots=True, sharex=False, sharey=False, layout=(5,3), figsize=(15,10)) #very important to detect outliers that can cause data skew that need to be removed"
   ]
  },
  {
   "cell_type": "code",
   "execution_count": null,
   "metadata": {
    "colab": {
     "base_uri": "https://localhost:8080/",
     "height": 300
    },
    "id": "HAqECdNZAiTD",
    "outputId": "c3a9eb1d-104b-4223-a545-8f815fcbf7e0"
   },
   "outputs": [],
   "source": [
    "df.describe()"
   ]
  },
  {
   "cell_type": "code",
   "execution_count": null,
   "metadata": {
    "colab": {
     "base_uri": "https://localhost:8080/",
     "height": 460
    },
    "id": "vK83lcapvHD3",
    "outputId": "6807bea0-f005-427c-ebab-68f8f5ee9da4"
   },
   "outputs": [],
   "source": [
    "# Check for missing values in each column\n",
    "df.isnull().sum()\n",
    "\n",
    "# Visualize missing values using a heatmap (optional)\n",
    "# import seaborn as sns\n",
    "# import matplotlib.pyplot as plt\n",
    "# sns.heatmap(df.isnull(), cbar=False, cmap='viridis')\n",
    "# plt.show()"
   ]
  },
  {
   "cell_type": "markdown",
   "metadata": {
    "id": "XBNNXLEt37s8"
   },
   "source": [
    "## Feature extraction and selection"
   ]
  },
  {
   "cell_type": "markdown",
   "metadata": {
    "id": "2egrBdrd4dOE"
   },
   "source": [
    "## Data cleaning and processing"
   ]
  },
  {
   "cell_type": "markdown",
   "metadata": {
    "id": "p77750dNBSwE"
   },
   "source": [
    "### Handling missing data\n",
    "Given that the dataset contains no missing values for any of the features, there was no need to perform replacement for missing values, dropping any rows with missing values, or dropping any features."
   ]
  },
  {
   "cell_type": "markdown",
   "metadata": {
    "id": "GNOYgEz0B6Jf"
   },
   "source": [
    "### Removing outliers"
   ]
  },
  {
   "cell_type": "code",
   "execution_count": null,
   "metadata": {
    "id": "AZavZF5QB9PL"
   },
   "outputs": [],
   "source": [
    "Q1 = np.percentile(df['Age'], 25)\n",
    "Q3 = np.percentile(df['Age'], 75)\n",
    "IQR = Q3 - Q1\n",
    "df = df[(df['Age'] >= Q1 - 1.5 * IQR) & (df['Age'] <= Q3 + 1.5 * IQR)] #this will pull the value of the skew closer to 0"
   ]
  },
  {
   "cell_type": "code",
   "execution_count": null,
   "metadata": {
    "id": "vBbDZvgKEQMa"
   },
   "outputs": [],
   "source": [
    "Q1 = np.percentile(df['RestingBP'], 25)\n",
    "Q3 = np.percentile(df['RestingBP'], 75)\n",
    "IQR = Q3 - Q1\n",
    "df = df[(df['RestingBP'] >= Q1 - 1.5 * IQR) & (df['RestingBP'] <= Q3 + 1.5 * IQR)] #this will pull the value of the skew closer to 0"
   ]
  },
  {
   "cell_type": "code",
   "execution_count": null,
   "metadata": {
    "id": "Th5uLy5cEP9F"
   },
   "outputs": [],
   "source": [
    "Q1 = np.percentile(df['Cholesterol'], 25)\n",
    "Q3 = np.percentile(df['Cholesterol'], 75)\n",
    "IQR = Q3 - Q1\n",
    "df = df[(df['Cholesterol'] >= Q1 - 1.5 * IQR) & (df['Cholesterol'] <= Q3 + 1.5 * IQR)] #this will pull the value of the skew closer to 0"
   ]
  },
  {
   "cell_type": "code",
   "execution_count": null,
   "metadata": {
    "id": "phOS1cxXEPys"
   },
   "outputs": [],
   "source": [
    "Q1 = np.percentile(df['MaxHR'], 25)\n",
    "Q3 = np.percentile(df['MaxHR'], 75)\n",
    "IQR = Q3 - Q1\n",
    "df = df[(df['MaxHR'] >= Q1 - 1.5 * IQR) & (df['MaxHR'] <= Q3 + 1.5 * IQR)] #this will pull the value of the skew closer to 0"
   ]
  },
  {
   "cell_type": "code",
   "execution_count": null,
   "metadata": {
    "id": "yIziRHWLEPlY"
   },
   "outputs": [],
   "source": [
    "Q1 = np.percentile(df['Oldpeak'], 25)\n",
    "Q3 = np.percentile(df['Oldpeak'], 75)\n",
    "IQR = Q3 - Q1\n",
    "df = df[(df['Oldpeak'] >= Q1 - 1.5 * IQR) & (df['Oldpeak'] <= Q3 + 1.5 * IQR)] #this will pull the value of the skew closer to 0"
   ]
  },
  {
   "cell_type": "code",
   "execution_count": null,
   "metadata": {
    "colab": {
     "base_uri": "https://localhost:8080/",
     "height": 424
    },
    "id": "li18idoNENMy",
    "outputId": "d4cbde74-920a-48af-ffc4-7ff922bf67e1"
   },
   "outputs": [],
   "source": [
    "df"
   ]
  },
  {
   "cell_type": "code",
   "execution_count": null,
   "metadata": {
    "colab": {
     "base_uri": "https://localhost:8080/",
     "height": 547
    },
    "id": "CXuNwyobG0lG",
    "outputId": "f6f7b472-b9e6-403f-da7b-ba87a4895a29"
   },
   "outputs": [],
   "source": [
    "selected = df.loc[:,['Age','RestingBP','Cholesterol','MaxHR','Oldpeak']]\n",
    "selected.plot(kind='box', subplots=True, sharex=False, sharey=False, layout=(5,3), figsize=(15,10)) #very important to detect outliers that can cause data skew that need to be removed"
   ]
  },
  {
   "cell_type": "code",
   "execution_count": null,
   "metadata": {
    "id": "RmD2eLBLG3eN"
   },
   "outputs": [],
   "source": [
    "Q1 = np.percentile(df['Cholesterol'], 25)\n",
    "Q3 = np.percentile(df['Cholesterol'], 75)\n",
    "IQR = Q3 - Q1\n",
    "df = df[(df['Cholesterol'] >= Q1 - 1.5 * IQR) & (df['Cholesterol'] <= Q3 + 1.5 * IQR)] #this will pull the value of the skew closer to 0"
   ]
  },
  {
   "cell_type": "code",
   "execution_count": null,
   "metadata": {
    "colab": {
     "base_uri": "https://localhost:8080/",
     "height": 545
    },
    "id": "B_W4JMxZG5PR",
    "outputId": "98db3725-1fd5-4761-dca8-664f79aac2d2"
   },
   "outputs": [],
   "source": [
    "selected = df.loc[:,['Age','RestingBP','Cholesterol','MaxHR','Oldpeak']]\n",
    "selected.plot(kind='box', subplots=True, sharex=False, sharey=False, layout=(5,3), figsize=(15,10)) #very important to detect outliers that can cause data skew that need to be removed"
   ]
  },
  {
   "cell_type": "code",
   "execution_count": null,
   "metadata": {
    "id": "yz6krX46G-rZ"
   },
   "outputs": [],
   "source": [
    "Q1 = np.percentile(df['Cholesterol'], 25)\n",
    "Q3 = np.percentile(df['Cholesterol'], 75)\n",
    "IQR = Q3 - Q1\n",
    "df = df[(df['Cholesterol'] >= Q1 - 1.5 * IQR) & (df['Cholesterol'] <= Q3 + 1.5 * IQR)] #this will pull the value of the skew closer to 0"
   ]
  },
  {
   "cell_type": "code",
   "execution_count": null,
   "metadata": {
    "colab": {
     "base_uri": "https://localhost:8080/",
     "height": 545
    },
    "id": "SQTKJlqZG_78",
    "outputId": "809e0e67-f3cf-48f4-fbcc-18b7ea527a79"
   },
   "outputs": [],
   "source": [
    "selected = df.loc[:,['Age','RestingBP','Cholesterol','MaxHR','Oldpeak']]\n",
    "selected.plot(kind='box', subplots=True, sharex=False, sharey=False, layout=(5,3), figsize=(15,10)) #very important to detect outliers that can cause data skew that need to be removed"
   ]
  },
  {
   "cell_type": "code",
   "execution_count": null,
   "metadata": {
    "colab": {
     "base_uri": "https://localhost:8080/",
     "height": 424
    },
    "id": "Alutp3JeHDm0",
    "outputId": "e463f6fc-5c5e-4ddb-d951-19b65d46c4db"
   },
   "outputs": [],
   "source": [
    "df"
   ]
  },
  {
   "cell_type": "code",
   "execution_count": null,
   "metadata": {
    "colab": {
     "base_uri": "https://localhost:8080/",
     "height": 358
    },
    "id": "2A2F5UBOHGbH",
    "outputId": "b7079705-0397-4ef4-e3a6-027ccebc4543"
   },
   "outputs": [],
   "source": [
    "selected = df.loc[:,['Age','Sex','RestingBP','Cholesterol','FastingBS','MaxHR','Oldpeak']]\n",
    "selected['Sex'] = selected['Sex'].replace({'M': 1, 'F': 0})  # Substitute 'M' with 1 and 'F' with 0\n",
    "selected.skew()"
   ]
  },
  {
   "cell_type": "markdown",
   "metadata": {
    "id": "EE7M_U_5IANH"
   },
   "source": [
    "### Dropping Duplicates\n",
    "Given that the dataset is given with no duplicates, we did not need to remove any duplicates."
   ]
  },
  {
   "cell_type": "markdown",
   "metadata": {
    "id": "Bey4g7poR43U"
   },
   "source": [
    "### Correlation"
   ]
  },
  {
   "cell_type": "code",
   "execution_count": null,
   "metadata": {
    "id": "vsVIhgpiY3uj"
   },
   "outputs": [],
   "source": [
    "import pandas as pd\n",
    "import seaborn as sns\n",
    "import matplotlib.pyplot as plt\n",
    "\n",
    "selected_df_corr = df.loc[:,['Age','RestingBP','Cholesterol','MaxHR','Oldpeak']]\n",
    "\n",
    "# Assuming 'data' is your DataFrame\n",
    "correlation_matrix = selected_df_corr.corr()  # Calculate correlation matrix for numerical columns"
   ]
  },
  {
   "cell_type": "code",
   "execution_count": null,
   "metadata": {
    "colab": {
     "base_uri": "https://localhost:8080/",
     "height": 435
    },
    "id": "2j4BtbiJaMIV",
    "outputId": "d7534a55-5f6f-4a0c-fb2b-d30e38ba9779"
   },
   "outputs": [],
   "source": [
    "import seaborn as sns\n",
    "import matplotlib.pyplot as plt\n",
    "\n",
    "sns.heatmap(correlation_matrix, cmap='Reds', annot=True, fmt='.2f')\n",
    "\n",
    "plt.show()"
   ]
  },
  {
   "cell_type": "code",
   "execution_count": null,
   "metadata": {
    "colab": {
     "base_uri": "https://localhost:8080/",
     "height": 466
    },
    "id": "St82AGq9c-ca",
    "outputId": "5ae393ae-a731-4583-d2d1-6d43d3b31615"
   },
   "outputs": [],
   "source": [
    "df.plot(kind='scatter', x='Age',y='Oldpeak')"
   ]
  },
  {
   "cell_type": "markdown",
   "metadata": {
    "id": "0fG8jygtcaUe"
   },
   "source": [
    "Since the correlation between the numerical features is not strong, we decide not to exclude any of the features. Even the strongest correlation of them between the oldpeak and Age are not strong enough to exclude any of them."
   ]
  },
  {
   "cell_type": "markdown",
   "metadata": {
    "id": "-epWz7QKR8HV"
   },
   "source": [
    "### Feature Scaling"
   ]
  },
  {
   "cell_type": "markdown",
   "metadata": {
    "id": "maYuitnEelCT"
   },
   "source": [
    "We opt for Standardization becauase: These features have different units (e.g., mmHg, mg/dL) and wide ranges. Standardization ensures they are on a comparable scale (mean 0, standard deviation 1) while preserving the shape of the distribution."
   ]
  },
  {
   "cell_type": "code",
   "execution_count": null,
   "metadata": {
    "id": "fqRFX2K6evjw"
   },
   "outputs": [],
   "source": [
    "from sklearn.preprocessing import StandardScaler\n",
    "features = ['Age','RestingBP','Cholesterol','MaxHR','Oldpeak']\n",
    "sc = StandardScaler()\n",
    "df[features] = sc.fit_transform(df[features])"
   ]
  },
  {
   "cell_type": "code",
   "execution_count": null,
   "metadata": {
    "colab": {
     "base_uri": "https://localhost:8080/",
     "height": 444
    },
    "id": "2Yt4GLu1e8xB",
    "outputId": "2e5afd63-261a-4d6e-f298-b7b80c9b4d25"
   },
   "outputs": [],
   "source": [
    "df"
   ]
  },
  {
   "cell_type": "markdown",
   "metadata": {
    "id": "5-XNEtaJ4pj0"
   },
   "source": [
    "## PCA analysis"
   ]
  },
  {
   "cell_type": "code",
   "execution_count": null,
   "metadata": {
    "colab": {
     "base_uri": "https://localhost:8080/"
    },
    "id": "Lom3oB0PfIfj",
    "outputId": "3fa0e80d-16ef-4c9a-b496-956552f87d53"
   },
   "outputs": [],
   "source": [
    "\n",
    "\n",
    "from sklearn.decomposition import PCA\n",
    "\n",
    "# Assuming 'df' is your DataFrame with scaled features\n",
    "features = ['Age', 'RestingBP', 'Cholesterol', 'MaxHR', 'Oldpeak']\n",
    "X = df[features]\n",
    "\n",
    "# Apply PCA with 2 components\n",
    "pca = PCA(n_components=1)\n",
    "principalComponents = pca.fit_transform(X)\n",
    "\n",
    "# Explained variance ratio\n",
    "explained_variance_ratio = pca.explained_variance_ratio_\n",
    "print(explained_variance_ratio)\n",
    "total_variance_explained = np.sum(explained_variance_ratio)\n",
    "print(f\"Total variance explained by the two components: {total_variance_explained}\")"
   ]
  },
  {
   "cell_type": "markdown",
   "metadata": {
    "id": "ThPd-2pXkKIA"
   },
   "source": [
    "QQ-Plot"
   ]
  },
  {
   "cell_type": "markdown",
   "metadata": {
    "id": "_IUJO6p-4uMZ"
   },
   "source": [
    "## Model selection"
   ]
  },
  {
   "cell_type": "markdown",
   "metadata": {
    "id": "FbUkRIS34vuh"
   },
   "source": [
    "## Model training"
   ]
  },
  {
   "cell_type": "markdown",
   "metadata": {
    "id": "4VM9hclf41BH"
   },
   "source": [
    "## Model evaluation"
   ]
  },
  {
   "cell_type": "markdown",
   "metadata": {
    "id": "33oXA4Wq45An"
   },
   "source": [
    "# Results"
   ]
  },
  {
   "cell_type": "markdown",
   "metadata": {
    "id": "Y4GeT95h5e-0"
   },
   "source": [
    "## Clustering"
   ]
  },
  {
   "cell_type": "markdown",
   "metadata": {
    "id": "-pEPu4gy5gMY"
   },
   "source": [
    "## Classification"
   ]
  },
  {
   "cell_type": "markdown",
   "metadata": {
    "id": "bPgfZVBO48SU"
   },
   "source": [
    "# Discussion and Future Insight"
   ]
  }
 ],
 "metadata": {
  "colab": {
   "collapsed_sections": [
    "33oXA4Wq45An"
   ],
   "provenance": []
  },
  "kernelspec": {
   "display_name": "Python 3",
   "name": "python3"
  },
  "language_info": {
   "codemirror_mode": {
    "name": "ipython",
    "version": 3
   },
   "file_extension": ".py",
   "mimetype": "text/x-python",
   "name": "python",
   "nbconvert_exporter": "python",
   "pygments_lexer": "ipython3",
   "version": "3.11.8"
  }
 },
 "nbformat": 4,
 "nbformat_minor": 0
}
